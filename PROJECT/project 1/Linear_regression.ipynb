{
 "cells": [
  {
   "cell_type": "code",
   "execution_count": 11,
   "metadata": {},
   "outputs": [],
   "source": [
    "from sklearn.linear_model import LinearRegression\n",
    "from sklearn.model_selection import train_test_split\n",
    "from sklearn.metrics import mean_squared_error\n",
    "import pandas as pd\n",
    "# IMPORT STANDARD SCALER\n",
    "from sklearn.preprocessing import StandardScaler\n",
    "\n",
    "df=pd.read_csv('./TaxiFare.csv')\n"
   ]
  },
  {
   "cell_type": "code",
   "execution_count": 12,
   "metadata": {},
   "outputs": [],
   "source": [
    "df = df.dropna()\n",
    "\n",
    "\n",
    "# Convert the pickup datetime column to datetime format\n",
    "df['date_time_of_pickup'] = pd.to_datetime(df['date_time_of_pickup'], format='%Y-%m-%d %H:%M:%S UTC')\n",
    "\n",
    "# Extract date-time features\n",
    "df['hour_of_day'] = df['date_time_of_pickup'].dt.hour\n",
    "df['month'] = df['date_time_of_pickup'].dt.month\n",
    "df['hour'] = df['date_time_of_pickup'].dt.hour\n",
    "df['dayofweek'] = df['date_time_of_pickup'].dt.dayofweek\n",
    "\n",
    "# Calculate the distance between pickup and dropoff locations\n",
    "df['distance'] = ((df['longitude_of_pickup'] - df['longitude_of_dropoff']) ** 2 + (df['latitude_of_pickup'] - df['latitude_of_dropoff']) ** 2) ** 0.5\n",
    "\n",
    "\n",
    "# Define the feature columns and target variable\n",
    "numerical_cols = ['longitude_of_pickup', 'latitude_of_pickup', 'longitude_of_dropoff', 'latitude_of_dropoff', 'no_of_passenger', 'distance', 'hour_of_day', 'month', 'hour', 'dayofweek']\n",
    "X = df[numerical_cols]\n",
    "y = df['amount']\n",
    "\n"
   ]
  },
  {
   "cell_type": "code",
   "execution_count": 16,
   "metadata": {},
   "outputs": [
    {
     "name": "stdout",
     "output_type": "stream",
     "text": [
      "Train Score: 0.0020061152629105017\n",
      "Test Score: 0.0008502744101914761\n"
     ]
    }
   ],
   "source": [
    "from sklearn.linear_model import LinearRegression\n",
    "from sklearn.metrics import r2_score\n",
    "\n",
    "# Splitting the data into training and testing sets\n",
    "X_train, X_test, y_train, y_test = train_test_split(X, y, test_size=0.2, random_state=42)\n",
    "\n",
    "\n",
    "# Creating the linear regression model\n",
    "lr = LinearRegression()\n",
    "\n",
    "# Training the model\n",
    "lr.fit(X_train, y_train)\n",
    "\n",
    "# Predicting on training and testing sets\n",
    "y_train_pred = lr.predict(X_train)\n",
    "y_test_pred = lr.predict(X_test)\n",
    "\n",
    "# Calculating the R2 score for training and testing sets\n",
    "train_score = r2_score(y_train, y_train_pred)\n",
    "test_score = r2_score(y_test, y_test_pred)\n",
    "\n",
    "# Printing the scores\n",
    "print(\"Train Score:\", train_score)\n",
    "print(\"Test Score:\", test_score)"
   ]
  },
  {
   "cell_type": "code",
   "execution_count": null,
   "metadata": {},
   "outputs": [],
   "source": []
  }
 ],
 "metadata": {
  "kernelspec": {
   "display_name": "Python 3",
   "language": "python",
   "name": "python3"
  },
  "language_info": {
   "codemirror_mode": {
    "name": "ipython",
    "version": 3
   },
   "file_extension": ".py",
   "mimetype": "text/x-python",
   "name": "python",
   "nbconvert_exporter": "python",
   "pygments_lexer": "ipython3",
   "version": "3.10.7"
  },
  "orig_nbformat": 4,
  "vscode": {
   "interpreter": {
    "hash": "ba37d69516b96b2df66115ef342e83722e1a1518f5d2e0ee41eb08141fa2fe2a"
   }
  }
 },
 "nbformat": 4,
 "nbformat_minor": 2
}
